{
 "cells": [
  {
   "cell_type": "code",
   "execution_count": 1,
   "metadata": {},
   "outputs": [
    {
     "name": "stdout",
     "output_type": "stream",
     "text": [
      "Collecting selenium\n",
      "  Downloading https://files.pythonhosted.org/packages/80/d6/4294f0b4bce4de0abf13e17190289f9d0613b0a44e5dd6a7f5ca98459853/selenium-3.141.0-py2.py3-none-any.whl (904kB)\n",
      "Requirement already satisfied: urllib3 in c:\\users\\pei\\anaconda3\\lib\\site-packages (from selenium) (1.24.1)\n",
      "Installing collected packages: selenium\n",
      "Successfully installed selenium-3.141.0\n"
     ]
    }
   ],
   "source": [
    "! pip install selenium"
   ]
  },
  {
   "cell_type": "code",
   "execution_count": 2,
   "metadata": {},
   "outputs": [
    {
     "name": "stdout",
     "output_type": "stream",
     "text": [
      "Requirement already satisfied: beautifulsoup4 in c:\\users\\pei\\anaconda3\\lib\\site-packages (4.6.3)\n"
     ]
    }
   ],
   "source": [
    "!  pip install beautifulsoup4"
   ]
  },
  {
   "cell_type": "code",
   "execution_count": 17,
   "metadata": {
    "scrolled": true
   },
   "outputs": [
    {
     "name": "stderr",
     "output_type": "stream",
     "text": [
      "C:\\Users\\PEI\\Anaconda3\\lib\\site-packages\\ipykernel_launcher.py:16: DeprecationWarning: use options instead of chrome_options\n",
      "  app.launch_new_instance()\n"
     ]
    },
    {
     "name": "stdout",
     "output_type": "stream",
     "text": [
      "Re: [請益] 持股診斷-\n",
      "13\n",
      "nets1976\n",
      " 1/10\n",
      "Re: [標的] 8103 空\n",
      "0\n",
      "twobrother20\n",
      " 1/10\n",
      "[新聞] 1795 美時公布最新營收\n",
      "30\n",
      "behati\n",
      " 1/10\n",
      "(本文已被刪除) [cosmite]\n",
      "2\n",
      "-\n",
      " 1/10\n",
      "[閒聊] 2020/01/10 盤後閒聊\n",
      "40\n",
      "wickwolf\n",
      " 1/10\n",
      "(本文已被刪除) [tim0259]\n",
      "0\n",
      "-\n",
      " 1/10\n",
      "[新聞] 台積電第4季營收超越財測 全年再飆逾兆\n",
      "40\n",
      "cosmite\n",
      " 1/10\n",
      "[其他] 台積電12月營收報告\n",
      "47\n",
      "CurryMvp\n",
      " 1/10\n",
      "[其他] 臺企銀108年12月份自結合併盈餘\n",
      "25\n",
      "CurryMvp\n",
      " 1/10\n",
      "[其他] 109年01月10日 三大法人買賣金額統計表\n",
      "37\n",
      "coconing\n",
      " 1/10\n",
      "[新聞] 漲聲響起！麥當勞調價 2配餐貴5元雞塊也\n",
      "26\n",
      "cjol\n",
      " 1/10\n",
      "Re: [標的]  5871 中租 長期多\n",
      "6\n",
      "Auoer\n",
      " 1/10\n",
      "[新聞] 〈台塑四寶業績發表〉去年合計純益大減4\n",
      "12\n",
      "Sugimoto5566\n",
      " 1/10\n",
      "[閒聊] 2020/01/10 盤後閒聊\n",
      "80\n",
      "wickwolf\n",
      " 1/10\n"
     ]
    }
   ],
   "source": [
    "from selenium import webdriver\n",
    "from selenium.webdriver.chrome.options import Options\n",
    "from bs4 import BeautifulSoup\n",
    "\n",
    "import time \n",
    "import os \n",
    "import csv\n",
    "\n",
    "\n",
    "options = Options()\n",
    "\n",
    "#options.add_argument('--headless')\n",
    "#options.add_argument('--disable-gpu')\n",
    "\n",
    "\n",
    "driver = webdriver.Chrome( os.getcwd( ) + '/chromedriver' , chrome_options= options )\n",
    "\n",
    "for\n",
    "driver.get('https://www.ptt.cc/bbs/Stock/index.html')\n",
    "\n",
    "sourceCode = BeautifulSoup(driver.page_source)\n",
    "metaSection = sourceCode.select('div.r-list-container')[0]\n",
    "sections = metaSection.select('div.r-ent')\n",
    "try: \n",
    "    with open('data.csv' , 'w' , newline='', encoding='utf_8_sig') as csvfile :\n",
    "        for section in sections :\n",
    "            title=section.select('div.title')[0].text\n",
    "            num=section.select('div.nrec')[0].text\n",
    "            author=section.select('div.author')[0].text\n",
    "            date=section.select('div.date')[0].text\n",
    "            \n",
    "            title = title.strip()\n",
    "            if(title.startswith('[公告]')):\n",
    "                continue\n",
    "            if(num.find('爆') != -1):\n",
    "                num = '100'\n",
    "                \n",
    "            if(num.find('X') != -1 or num ==''):\n",
    "                num = '0'\n",
    "                \n",
    "            print(title)\n",
    "            print(num)\n",
    "            print(author)\n",
    "            print(date)\n",
    "            writer = csv.writer(csvfile)\n",
    "            writer.writerow([num, title, author, date])\n",
    "            \n",
    "    driver.close()\n",
    "except Exception as e:\n",
    "    print(e)\n",
    "    driver.close()"
   ]
  },
  {
   "cell_type": "code",
   "execution_count": 35,
   "metadata": {},
   "outputs": [
    {
     "name": "stdout",
     "output_type": "stream",
     "text": [
      "\n",
      "[新聞] 2009年來首見、日本粗鋼產量恐跌破1億噸\n",
      "\n",
      "2\n",
      "MSCI\n",
      "12/27\n",
      "\n",
      "[新聞] 中國不肯明言採購金額！南華早報：怕擴大\n",
      "\n",
      "9\n",
      "dragonjj\n",
      "12/27\n",
      "\n",
      "[新聞] 過去10年新興市場指數 泰、菲、台灣3國\n",
      "\n",
      "5\n",
      "MSCI\n",
      "12/27\n",
      "\n",
      "[新聞] 中國企業債券違約破表！人行：慎防引爆系\n",
      "\n",
      "17\n",
      "dragonjj\n",
      "12/27\n",
      "\n",
      "[新聞] 川普執政 3 年美股飆逾 50%，高居歷屆總\n",
      "\n",
      "39\n",
      "dragonjj\n",
      "12/27\n",
      "\n",
      "[其他] 108年12月27日 三大法人買賣金額統計表\n",
      "\n",
      "61\n",
      "coconing\n",
      "12/27\n",
      "\n",
      "[請益] 沒有小兒台股會變成怎樣？\n",
      "\n",
      "7\n",
      "jasonlin2100\n",
      "12/27\n",
      "\n",
      "[公告] 精華區導覽Q&A\n",
      "\n",
      "45\n",
      "IanLi\n",
      " 1/25\n",
      "\n",
      "[公告] Stock 板規V2.6             (2019/06/20)\n",
      "\n",
      "\n",
      "eyespot\n",
      "11/03\n",
      "\n",
      "[閒聊] 2019/12/27 盤中閒聊\n",
      "\n",
      "爆\n",
      "gn01765288\n",
      "12/27\n"
     ]
    }
   ],
   "source": [
    "# for section in sections :\n",
    "            title=section.select('div.title')[0].text\n",
    "            num=section.select('div.nrec')[0].text\n",
    "            author=section.select('div.author')[0].text\n",
    "            date=section.select('div.date')[0].text\n",
    "            print(title)\n",
    "            print(num)\n",
    "            print(author)\n",
    "            print(date)"
   ]
  },
  {
   "cell_type": "code",
   "execution_count": null,
   "metadata": {},
   "outputs": [],
   "source": []
  }
 ],
 "metadata": {
  "kernelspec": {
   "display_name": "Python 3",
   "language": "python",
   "name": "python3"
  },
  "language_info": {
   "codemirror_mode": {
    "name": "ipython",
    "version": 3
   },
   "file_extension": ".py",
   "mimetype": "text/x-python",
   "name": "python",
   "nbconvert_exporter": "python",
   "pygments_lexer": "ipython3",
   "version": "3.7.1"
  }
 },
 "nbformat": 4,
 "nbformat_minor": 2
}
